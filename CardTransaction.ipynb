{
 "cells": [
  {
   "cell_type": "markdown",
   "metadata": {},
   "source": [
    "[![alt text](https://avatars1.githubusercontent.com/u/59831504?s=400&v=4 \"MtheEPIC User Icon\")](https://github.com/MtheEPIC/KaggleProj)"
   ]
  },
  {
   "cell_type": "markdown",
   "metadata": {},
   "source": [
    "# Import Libraries"
   ]
  },
  {
   "cell_type": "code",
   "execution_count": 1,
   "metadata": {},
   "outputs": [],
   "source": [
    "import numpy as np\n",
    "import pandas as pd\n",
    "import matplotlib.pyplot as plt\n",
    "%matplotlib inline\n",
    "import seaborn as sns\n",
    "sns.set() \n",
    "\n",
    "from sklearn.preprocessing import MinMaxScaler, binarize\n",
    "from sklearn.metrics import accuracy_score, roc_curve, roc_auc_score, plot_roc_curve, confusion_matrix, classification_report, precision_recall_curve, average_precision_score\n",
    "from sklearn.model_selection import train_test_split, cross_val_score, GridSearchCV, RandomizedSearchCV\n",
    "\n",
    "from sklearn.naive_bayes import MultinomialNB, GaussianNB\n",
    "from sklearn.ensemble import AdaBoostClassifier, RandomForestClassifier\n",
    "from sklearn.tree import DecisionTreeClassifier\n",
    "from sklearn.linear_model import LogisticRegression\n",
    "from sklearn.svm import SVC, LinearSVC"
   ]
  },
  {
   "cell_type": "code",
   "execution_count": 2,
   "metadata": {},
   "outputs": [],
   "source": [
    "supSize = 25\n",
    "titleSize = 20\n",
    "labelSize = 15\n",
    "tickSize = 13"
   ]
  },
  {
   "cell_type": "markdown",
   "metadata": {},
   "source": [
    "---\n",
    "# Setup Data"
   ]
  },
  {
   "cell_type": "markdown",
   "metadata": {},
   "source": [
    "## Load & Display Data\n",
    "[Kaggle Dataset](https://www.kaggle.com/ntnu-testimon/paysim1 \"Synthetic Financial Datasets For Fraud Detection\")"
   ]
  },
  {
   "cell_type": "code",
   "execution_count": 3,
   "metadata": {},
   "outputs": [
    {
     "data": {
      "text/html": [
       "<div>\n",
       "<style scoped>\n",
       "    .dataframe tbody tr th:only-of-type {\n",
       "        vertical-align: middle;\n",
       "    }\n",
       "\n",
       "    .dataframe tbody tr th {\n",
       "        vertical-align: top;\n",
       "    }\n",
       "\n",
       "    .dataframe thead th {\n",
       "        text-align: right;\n",
       "    }\n",
       "</style>\n",
       "<table border=\"1\" class=\"dataframe\">\n",
       "  <thead>\n",
       "    <tr style=\"text-align: right;\">\n",
       "      <th></th>\n",
       "      <th>step</th>\n",
       "      <th>type</th>\n",
       "      <th>amount</th>\n",
       "      <th>nameOrig</th>\n",
       "      <th>oldbalanceOrg</th>\n",
       "      <th>newbalanceOrig</th>\n",
       "      <th>nameDest</th>\n",
       "      <th>oldbalanceDest</th>\n",
       "      <th>newbalanceDest</th>\n",
       "      <th>isFraud</th>\n",
       "      <th>isFlaggedFraud</th>\n",
       "    </tr>\n",
       "  </thead>\n",
       "  <tbody>\n",
       "    <tr>\n",
       "      <th>0</th>\n",
       "      <td>1</td>\n",
       "      <td>PAYMENT</td>\n",
       "      <td>9839.64</td>\n",
       "      <td>C1231006815</td>\n",
       "      <td>170136.0</td>\n",
       "      <td>160296.36</td>\n",
       "      <td>M1979787155</td>\n",
       "      <td>0.0</td>\n",
       "      <td>0.0</td>\n",
       "      <td>0</td>\n",
       "      <td>0</td>\n",
       "    </tr>\n",
       "    <tr>\n",
       "      <th>1</th>\n",
       "      <td>1</td>\n",
       "      <td>PAYMENT</td>\n",
       "      <td>1864.28</td>\n",
       "      <td>C1666544295</td>\n",
       "      <td>21249.0</td>\n",
       "      <td>19384.72</td>\n",
       "      <td>M2044282225</td>\n",
       "      <td>0.0</td>\n",
       "      <td>0.0</td>\n",
       "      <td>0</td>\n",
       "      <td>0</td>\n",
       "    </tr>\n",
       "    <tr>\n",
       "      <th>2</th>\n",
       "      <td>1</td>\n",
       "      <td>TRANSFER</td>\n",
       "      <td>181.00</td>\n",
       "      <td>C1305486145</td>\n",
       "      <td>181.0</td>\n",
       "      <td>0.00</td>\n",
       "      <td>C553264065</td>\n",
       "      <td>0.0</td>\n",
       "      <td>0.0</td>\n",
       "      <td>1</td>\n",
       "      <td>0</td>\n",
       "    </tr>\n",
       "    <tr>\n",
       "      <th>3</th>\n",
       "      <td>1</td>\n",
       "      <td>CASH_OUT</td>\n",
       "      <td>181.00</td>\n",
       "      <td>C840083671</td>\n",
       "      <td>181.0</td>\n",
       "      <td>0.00</td>\n",
       "      <td>C38997010</td>\n",
       "      <td>21182.0</td>\n",
       "      <td>0.0</td>\n",
       "      <td>1</td>\n",
       "      <td>0</td>\n",
       "    </tr>\n",
       "    <tr>\n",
       "      <th>4</th>\n",
       "      <td>1</td>\n",
       "      <td>PAYMENT</td>\n",
       "      <td>11668.14</td>\n",
       "      <td>C2048537720</td>\n",
       "      <td>41554.0</td>\n",
       "      <td>29885.86</td>\n",
       "      <td>M1230701703</td>\n",
       "      <td>0.0</td>\n",
       "      <td>0.0</td>\n",
       "      <td>0</td>\n",
       "      <td>0</td>\n",
       "    </tr>\n",
       "  </tbody>\n",
       "</table>\n",
       "</div>"
      ],
      "text/plain": [
       "   step      type    amount     nameOrig  oldbalanceOrg  newbalanceOrig  \\\n",
       "0     1   PAYMENT   9839.64  C1231006815       170136.0       160296.36   \n",
       "1     1   PAYMENT   1864.28  C1666544295        21249.0        19384.72   \n",
       "2     1  TRANSFER    181.00  C1305486145          181.0            0.00   \n",
       "3     1  CASH_OUT    181.00   C840083671          181.0            0.00   \n",
       "4     1   PAYMENT  11668.14  C2048537720        41554.0        29885.86   \n",
       "\n",
       "      nameDest  oldbalanceDest  newbalanceDest  isFraud  isFlaggedFraud  \n",
       "0  M1979787155             0.0             0.0        0               0  \n",
       "1  M2044282225             0.0             0.0        0               0  \n",
       "2   C553264065             0.0             0.0        1               0  \n",
       "3    C38997010         21182.0             0.0        1               0  \n",
       "4  M1230701703             0.0             0.0        0               0  "
      ]
     },
     "execution_count": 3,
     "metadata": {},
     "output_type": "execute_result"
    }
   ],
   "source": [
    "df = pd.read_csv('data/card.csv')\n",
    "df.head()"
   ]
  },
  {
   "cell_type": "code",
   "execution_count": 4,
   "metadata": {},
   "outputs": [
    {
     "name": "stdout",
     "output_type": "stream",
     "text": [
      "<class 'pandas.core.frame.DataFrame'>\n",
      "RangeIndex: 6362620 entries, 0 to 6362619\n",
      "Data columns (total 11 columns):\n",
      " #   Column          Dtype  \n",
      "---  ------          -----  \n",
      " 0   step            int64  \n",
      " 1   type            object \n",
      " 2   amount          float64\n",
      " 3   nameOrig        object \n",
      " 4   oldbalanceOrg   float64\n",
      " 5   newbalanceOrig  float64\n",
      " 6   nameDest        object \n",
      " 7   oldbalanceDest  float64\n",
      " 8   newbalanceDest  float64\n",
      " 9   isFraud         int64  \n",
      " 10  isFlaggedFraud  int64  \n",
      "dtypes: float64(5), int64(3), object(3)\n",
      "memory usage: 534.0+ MB\n"
     ]
    }
   ],
   "source": [
    "df.info()"
   ]
  },
  {
   "cell_type": "markdown",
   "metadata": {},
   "source": [
    "## Check Value Type"
   ]
  },
  {
   "cell_type": "code",
   "execution_count": 5,
   "metadata": {},
   "outputs": [
    {
     "name": "stdout",
     "output_type": "stream",
     "text": [
      "<class 'pandas.core.frame.DataFrame'>\n",
      "RangeIndex: 6362620 entries, 0 to 6362619\n",
      "Data columns (total 11 columns):\n",
      " #   Column          Dtype  \n",
      "---  ------          -----  \n",
      " 0   step            int64  \n",
      " 1   type            object \n",
      " 2   amount          float64\n",
      " 3   nameOrig        object \n",
      " 4   oldbalanceOrg   float64\n",
      " 5   newbalanceOrig  float64\n",
      " 6   nameDest        object \n",
      " 7   oldbalanceDest  float64\n",
      " 8   newbalanceDest  float64\n",
      " 9   isFraud         int64  \n",
      " 10  isFlaggedFraud  int64  \n",
      "dtypes: float64(5), int64(3), object(3)\n",
      "memory usage: 534.0+ MB\n",
      "data types\n",
      "None\n",
      "\n",
      "null values:\n",
      "step              0\n",
      "type              0\n",
      "amount            0\n",
      "nameOrig          0\n",
      "oldbalanceOrg     0\n",
      "newbalanceOrig    0\n",
      "nameDest          0\n",
      "oldbalanceDest    0\n",
      "newbalanceDest    0\n",
      "isFraud           0\n",
      "isFlaggedFraud    0\n",
      "dtype: int64\n"
     ]
    }
   ],
   "source": [
    "print(\"data types\\n{}\".format(df.info()))\n",
    "print(\"\\nnull values:\\n{}\".format(df.isnull().sum()))"
   ]
  },
  {
   "cell_type": "markdown",
   "metadata": {},
   "source": [
    "## Define Each Feature"
   ]
  },
  {
   "cell_type": "markdown",
   "metadata": {},
   "source": [
    "### We have 11 initial features:\n",
    "\n",
    "* **step:** Maps a unit of time in the real world. In this case 1 step is 1 hour of time, 743 is the end of the month\n",
    "* **type:** CASH-IN, CASH-OUT, DEBIT, PAYMENT and TRANSFER\n",
    "* **amount:** amount of the transaction in local currency _(may be bigger then the account balance)_\n",
    "* **nameOrig:** customer who started the transaction _(start with C for customer)_\n",
    "* **oldbalanceOrg:** initial balance before the transaction _(at least 0)_\n",
    "* **newbalanceOrig:** customer's balance after the transaction. _(at least 0)_\n",
    "* **nameDest:** recipient ID of the transaction. _(start with C for customer)_\n",
    "* **oldbalanceDest:** initial recipient balance before the transaction. _(at least 0)_\n",
    "* **newbalanceDest:** recipient's balance after the transaction. _(at least 0)_\n",
    "* **isFraud:** identifies a fraudulent transaction (1) and non fraudulent (0)\n",
    "* **isFlaggedFraud:** flags illegal attempts to transfer more than 200.000 in a single transaction."
   ]
  },
  {
   "cell_type": "markdown",
   "metadata": {},
   "source": [
    "---\n",
    "# Data Trends"
   ]
  },
  {
   "cell_type": "markdown",
   "metadata": {},
   "source": [
    "### Transaction Types"
   ]
  },
  {
   "cell_type": "code",
   "execution_count": 6,
   "metadata": {},
   "outputs": [
    {
     "data": {
      "image/png": "[encoded data removed]",
      "text/plain": [
       "<Figure size 432x288 with 1 Axes>"
      ]
     },
     "metadata": {},
     "output_type": "display_data"
    }
   ],
   "source": [
    "df['type'].value_counts().plot.bar()\n",
    "plt.show()"
   ]
  },
  {
   "cell_type": "code",
   "execution_count": 7,
   "metadata": {},
   "outputs": [
    {
     "name": "stdout",
     "output_type": "stream",
     "text": [
      "The precent of DEBIT in the Data Set is 0.65% (41432 lines)\n"
     ]
    }
   ],
   "source": [
    "precent = df['type'].value_counts(normalize=True)['DEBIT']*100\n",
    "lines = df[df['type'] == 'DEBIT']['type'].value_counts()['DEBIT']\n",
    "print(\"The precent of DEBIT in the Data Set is {:.2f}% ({} lines)\".format(precent, lines))"
   ]
  },
  {
   "cell_type": "markdown",
   "metadata": {},
   "source": [
    "### Fraud happens aroud 0.13%"
   ]
  },
  {
   "cell_type": "code",
   "execution_count": 8,
   "metadata": {},
   "outputs": [
    {
     "data": {
      "text/plain": [
       "'0.13%'"
      ]
     },
     "execution_count": 8,
     "metadata": {},
     "output_type": "execute_result"
    }
   ],
   "source": [
    "\"{:.2f}%\".format(df['isFraud'].value_counts(normalize=True)[1]*100)"
   ]
  },
  {
   "cell_type": "markdown",
   "metadata": {},
   "source": [
    "### Fraud is only in: TRANSFER, CASH OUT\n",
    "#### (at about the same amount)"
   ]
  },
  {
   "cell_type": "code",
   "execution_count": 9,
   "metadata": {},
   "outputs": [
    {
     "data": {
      "text/plain": [
       "CASH_OUT    50.11567\n",
       "TRANSFER    49.88433\n",
       "Name: type, dtype: float64"
      ]
     },
     "execution_count": 9,
     "metadata": {},
     "output_type": "execute_result"
    }
   ],
   "source": [
    "fraud = df[df['isFraud'] == 1]\n",
    "fraud['type'].value_counts(normalize=True)*100"
   ]
  },
  {
   "cell_type": "markdown",
   "metadata": {},
   "source": [
    "### Precentage of Transfer Fraud is about 0.77%"
   ]
  },
  {
   "cell_type": "code",
   "execution_count": 10,
   "metadata": {},
   "outputs": [
    {
     "data": {
      "text/plain": [
       "0.7687991758442811"
      ]
     },
     "execution_count": 10,
     "metadata": {},
     "output_type": "execute_result"
    }
   ],
   "source": [
    "df[df['type'] == 'TRANSFER']['isFraud'].value_counts(normalize=True)[1]*100"
   ]
  },
  {
   "cell_type": "markdown",
   "metadata": {},
   "source": [
    "### Precentage of Cash Out Fraud is about 0.18%"
   ]
  },
  {
   "cell_type": "code",
   "execution_count": 11,
   "metadata": {},
   "outputs": [
    {
     "data": {
      "text/plain": [
       "0.18395530726256984"
      ]
     },
     "execution_count": 11,
     "metadata": {},
     "output_type": "execute_result"
    }
   ],
   "source": [
    "df[df['type'] == 'CASH_OUT']['isFraud'].value_counts(normalize=True)[1]*100"
   ]
  },
  {
   "cell_type": "markdown",
   "metadata": {},
   "source": [
    "### If The Transaction Amount Was The Same As The Balance: Its Fraud"
   ]
  },
  {
   "cell_type": "code",
   "execution_count": 12,
   "metadata": {},
   "outputs": [
    {
     "data": {
      "text/plain": [
       "array([1], dtype=int64)"
      ]
     },
     "execution_count": 12,
     "metadata": {},
     "output_type": "execute_result"
    }
   ],
   "source": [
    "df[df['amount'] == df['oldbalanceOrg']]['isFraud'].unique()"
   ]
  },
  {
   "cell_type": "markdown",
   "metadata": {},
   "source": [
    "### If the Existing Fraud Detection Flags the Transaction as Fraud, It's Fraud"
   ]
  },
  {
   "cell_type": "code",
   "execution_count": 13,
   "metadata": {},
   "outputs": [
    {
     "data": {
      "text/plain": [
       "array([1], dtype=int64)"
      ]
     },
     "execution_count": 13,
     "metadata": {},
     "output_type": "execute_result"
    }
   ],
   "source": [
    "df[df['isFlaggedFraud'] == 1]['isFraud'].unique()"
   ]
  },
  {
   "cell_type": "markdown",
   "metadata": {},
   "source": [
    "### All initiates are customers"
   ]
  },
  {
   "cell_type": "code",
   "execution_count": 14,
   "metadata": {},
   "outputs": [
    {
     "data": {
      "text/plain": [
       "array(['C'], dtype=object)"
      ]
     },
     "execution_count": 14,
     "metadata": {},
     "output_type": "execute_result"
    }
   ],
   "source": [
    "df['nameOrig'].str[0].unique()"
   ]
  },
  {
   "cell_type": "markdown",
   "metadata": {},
   "source": [
    "### Recipients are both customers and merchants"
   ]
  },
  {
   "cell_type": "code",
   "execution_count": 15,
   "metadata": {},
   "outputs": [
    {
     "data": {
      "text/plain": [
       "array(['M', 'C'], dtype=object)"
      ]
     },
     "execution_count": 15,
     "metadata": {},
     "output_type": "execute_result"
    }
   ],
   "source": [
    "df['nameDest'].str[0].unique()"
   ]
  },
  {
   "cell_type": "markdown",
   "metadata": {},
   "source": [
    "### proper recipients (merchants) do not fraud"
   ]
  },
  {
   "cell_type": "code",
   "execution_count": 16,
   "metadata": {},
   "outputs": [
    {
     "data": {
      "text/plain": [
       "array(['C'], dtype=object)"
      ]
     },
     "execution_count": 16,
     "metadata": {},
     "output_type": "execute_result"
    }
   ],
   "source": [
    "df[df['isFraud']==1]['nameDest'].str[0].unique()"
   ]
  },
  {
   "cell_type": "markdown",
   "metadata": {},
   "source": [
    "### merchants do not use transaction types with fraud"
   ]
  },
  {
   "cell_type": "code",
   "execution_count": 17,
   "metadata": {},
   "outputs": [
    {
     "name": "stdout",
     "output_type": "stream",
     "text": [
      "['C']\n",
      "['C']\n"
     ]
    }
   ],
   "source": [
    "print(df[df['type']=='TRANSFER']['nameDest'].str[0].unique())\n",
    "print(df[df['type']=='CASH_OUT']['nameDest'].str[0].unique())"
   ]
  },
  {
   "cell_type": "markdown",
   "metadata": {},
   "source": [
    "### Customers who Commited Fraud also Have Legit Transactions"
   ]
  },
  {
   "cell_type": "code",
   "execution_count": 18,
   "metadata": {},
   "outputs": [
    {
     "data": {
      "text/html": [
       "<div>\n",
       "<style scoped>\n",
       "    .dataframe tbody tr th:only-of-type {\n",
       "        vertical-align: middle;\n",
       "    }\n",
       "\n",
       "    .dataframe tbody tr th {\n",
       "        vertical-align: top;\n",
       "    }\n",
       "\n",
       "    .dataframe thead th {\n",
       "        text-align: right;\n",
       "    }\n",
       "</style>\n",
       "<table border=\"1\" class=\"dataframe\">\n",
       "  <thead>\n",
       "    <tr style=\"text-align: right;\">\n",
       "      <th></th>\n",
       "      <th>step</th>\n",
       "      <th>type</th>\n",
       "      <th>amount</th>\n",
       "      <th>nameOrig</th>\n",
       "      <th>oldbalanceOrg</th>\n",
       "      <th>newbalanceOrig</th>\n",
       "      <th>nameDest</th>\n",
       "      <th>oldbalanceDest</th>\n",
       "      <th>newbalanceDest</th>\n",
       "      <th>isFraud</th>\n",
       "      <th>isFlaggedFraud</th>\n",
       "    </tr>\n",
       "  </thead>\n",
       "  <tbody>\n",
       "    <tr>\n",
       "      <th>2</th>\n",
       "      <td>1</td>\n",
       "      <td>TRANSFER</td>\n",
       "      <td>181.00</td>\n",
       "      <td>C1305486145</td>\n",
       "      <td>181.00</td>\n",
       "      <td>0.00</td>\n",
       "      <td>C553264065</td>\n",
       "      <td>0.00</td>\n",
       "      <td>0.00</td>\n",
       "      <td>1</td>\n",
       "      <td>0</td>\n",
       "    </tr>\n",
       "    <tr>\n",
       "      <th>6167</th>\n",
       "      <td>6</td>\n",
       "      <td>TRANSFER</td>\n",
       "      <td>109985.65</td>\n",
       "      <td>C570434649</td>\n",
       "      <td>41851.00</td>\n",
       "      <td>0.00</td>\n",
       "      <td>C553264065</td>\n",
       "      <td>0.00</td>\n",
       "      <td>109985.65</td>\n",
       "      <td>0</td>\n",
       "      <td>0</td>\n",
       "    </tr>\n",
       "    <tr>\n",
       "      <th>7903</th>\n",
       "      <td>7</td>\n",
       "      <td>CASH_IN</td>\n",
       "      <td>10256.20</td>\n",
       "      <td>C111105514</td>\n",
       "      <td>3766080.24</td>\n",
       "      <td>3776336.45</td>\n",
       "      <td>C553264065</td>\n",
       "      <td>109985.65</td>\n",
       "      <td>99729.44</td>\n",
       "      <td>0</td>\n",
       "      <td>0</td>\n",
       "    </tr>\n",
       "    <tr>\n",
       "      <th>16381</th>\n",
       "      <td>8</td>\n",
       "      <td>CASH_OUT</td>\n",
       "      <td>111622.39</td>\n",
       "      <td>C1457214570</td>\n",
       "      <td>2347.00</td>\n",
       "      <td>0.00</td>\n",
       "      <td>C553264065</td>\n",
       "      <td>99729.44</td>\n",
       "      <td>5254.44</td>\n",
       "      <td>0</td>\n",
       "      <td>0</td>\n",
       "    </tr>\n",
       "    <tr>\n",
       "      <th>20003</th>\n",
       "      <td>8</td>\n",
       "      <td>CASH_IN</td>\n",
       "      <td>206097.39</td>\n",
       "      <td>C161724858</td>\n",
       "      <td>1991.12</td>\n",
       "      <td>208088.52</td>\n",
       "      <td>C553264065</td>\n",
       "      <td>211351.84</td>\n",
       "      <td>5254.44</td>\n",
       "      <td>0</td>\n",
       "      <td>0</td>\n",
       "    </tr>\n",
       "  </tbody>\n",
       "</table>\n",
       "</div>"
      ],
      "text/plain": [
       "       step      type     amount     nameOrig  oldbalanceOrg  newbalanceOrig  \\\n",
       "2         1  TRANSFER     181.00  C1305486145         181.00            0.00   \n",
       "6167      6  TRANSFER  109985.65   C570434649       41851.00            0.00   \n",
       "7903      7   CASH_IN   10256.20   C111105514     3766080.24      3776336.45   \n",
       "16381     8  CASH_OUT  111622.39  C1457214570        2347.00            0.00   \n",
       "20003     8   CASH_IN  206097.39   C161724858        1991.12       208088.52   \n",
       "\n",
       "         nameDest  oldbalanceDest  newbalanceDest  isFraud  isFlaggedFraud  \n",
       "2      C553264065            0.00            0.00        1               0  \n",
       "6167   C553264065            0.00       109985.65        0               0  \n",
       "7903   C553264065       109985.65        99729.44        0               0  \n",
       "16381  C553264065        99729.44         5254.44        0               0  \n",
       "20003  C553264065       211351.84         5254.44        0               0  "
      ]
     },
     "execution_count": 18,
     "metadata": {},
     "output_type": "execute_result"
    }
   ],
   "source": [
    "fraudDoers = df[df['isFraud']==1]['nameDest'].unique()\n",
    "df[df['nameDest']==fraudDoers[0]].head()"
   ]
  },
  {
   "cell_type": "markdown",
   "metadata": {},
   "source": [
    "### People who had been scamed had only one transaction in there acount"
   ]
  },
  {
   "cell_type": "code",
   "execution_count": 19,
   "metadata": {},
   "outputs": [
    {
     "name": "stdout",
     "output_type": "stream",
     "text": [
      "8213\n",
      "8213\n"
     ]
    }
   ],
   "source": [
    "fraudRecipients = df[df['isFraud']==1]['nameOrig']\n",
    "print(len(fraudRecipients))\n",
    "print(len(fraudRecipients.unique()))"
   ]
  },
  {
   "cell_type": "markdown",
   "metadata": {},
   "source": [
    "### People with only one transaction ..."
   ]
  },
  {
   "cell_type": "code",
   "execution_count": 20,
   "metadata": {},
   "outputs": [
    {
     "data": {
      "text/plain": [
       "2          C1305486145\n",
       "3           C840083671\n",
       "251        C1420196421\n",
       "252        C2101527076\n",
       "680         C137533655\n",
       "              ...     \n",
       "6362615     C786484425\n",
       "6362616    C1529008245\n",
       "6362617    C1162922333\n",
       "6362618    C1685995037\n",
       "6362619    C1280323807\n",
       "Name: nameOrig, Length: 8213, dtype: object"
      ]
     },
     "execution_count": 20,
     "metadata": {},
     "output_type": "execute_result"
    }
   ],
   "source": [
    "fraudRecipients = df['nameOrig']\n",
    "# print(len(fraudRecipients))\n",
    "# print(len(fraudRecipients.unique()))\n",
    "fraudRecipientsValues = fraudRecipients.value_counts()\n",
    "fraudRecipientsValues[9298:]\n",
    "df[df['isFraud']==1]['nameOrig']"
   ]
  },
  {
   "cell_type": "markdown",
   "metadata": {},
   "source": [
    "### Though in general there are more Initiates then Recipients, In Fraudulent Transactions it's the other way"
   ]
  },
  {
   "cell_type": "code",
   "execution_count": 21,
   "metadata": {},
   "outputs": [
    {
     "name": "stdout",
     "output_type": "stream",
     "text": [
      "In Total:\n",
      "The Number Of Initiates is: 6353307\n",
      "The Number Of Recipients is: 2722362\n",
      "In Fraudulent Transactions:\n",
      "The Number Of Initiates is: 8213\n",
      "The Number Of Recipients is: 8169\n"
     ]
    }
   ],
   "source": [
    "print(\"In Total:\")\n",
    "print(\"The Number Of Initiates is: {}\".format(len(df['nameOrig'].unique())))\n",
    "print(\"The Number Of Recipients is: {}\".format(len(df['nameDest'].unique())))\n",
    "print(\"In Fraudulent Transactions:\")\n",
    "print(\"The Number Of Initiates is: {}\".format(len(df[df['isFraud']==1]['nameOrig'].unique())))\n",
    "print(\"The Number Of Recipients is: {}\".format(len(df[df['isFraud']==1]['nameDest'].unique())))"
   ]
  },
  {
   "cell_type": "markdown",
   "metadata": {},
   "source": [
    "### Almost all of the fraudulent transactions where when the amount in the transaction was the same as the account balance"
   ]
  },
  {
   "cell_type": "code",
   "execution_count": 22,
   "metadata": {
    "scrolled": true
   },
   "outputs": [
    {
     "name": "stdout",
     "output_type": "stream",
     "text": [
      "The precentage of fraudulent transaction that didn't take the hull balace of the customer is 2.1794715694630464%\n"
     ]
    }
   ],
   "source": [
    "dfFraud = df[df['isFraud']==1][['amount', 'oldbalanceOrg']]\n",
    "precent = dfFraud[dfFraud['amount']!=dfFraud['oldbalanceOrg']].shape[0]/dfFraud.shape[0]*100\n",
    "print(\"The precentage of fraudulent transaction that didn't take the hull balace of the customer is {}%\".format(precent))"
   ]
  },
  {
   "cell_type": "markdown",
   "metadata": {},
   "source": [
    "### The destination account doesn't seem to update according to the transferred amount, probebly to simulate the bank verifying the transaction"
   ]
  },
  {
   "cell_type": "code",
   "execution_count": 23,
   "metadata": {},
   "outputs": [
    {
     "name": "stdout",
     "output_type": "stream",
     "text": [
      "the amount transferred (9644.94) doesn't match the change in the destination account (147137.12)\n"
     ]
    }
   ],
   "source": [
    "amount = df.loc[10]['amount']\n",
    "delta = df.loc[10]['newbalanceDest'] - df.loc[10]['oldbalanceDest']\n",
    "print('the amount transferred ({}) doesn\\'t match the change in the destination account ({})'.format(amount, delta))"
   ]
  },
  {
   "cell_type": "markdown",
   "metadata": {},
   "source": [
    "### check if step helps in finding if fraud exists"
   ]
  },
  {
   "cell_type": "code",
   "execution_count": 24,
   "metadata": {},
   "outputs": [
    {
     "data": {
      "text/plain": [
       "isFraud    0\n",
       "dtype: int64"
      ]
     },
     "execution_count": 24,
     "metadata": {},
     "output_type": "execute_result"
    },
    {
     "data": {
      "image/png": "[encoded data removed]",
      "text/plain": [
       "<Figure size 432x288 with 1 Axes>"
      ]
     },
     "metadata": {},
     "output_type": "display_data"
    }
   ],
   "source": [
    "tmp = df[['step', 'isFraud']]\n",
    "tmp.groupby(['step']).sum().plot()\n",
    "tmp.groupby(['step']).sum().min()"
   ]
  },
  {
   "cell_type": "markdown",
   "metadata": {},
   "source": [
    "change step to times of day 0-23"
   ]
  },
  {
   "cell_type": "code",
   "execution_count": 25,
   "metadata": {},
   "outputs": [
    {
     "data": {
      "text/plain": [
       "isFraud    274\n",
       "dtype: int64"
      ]
     },
     "execution_count": 25,
     "metadata": {},
     "output_type": "execute_result"
    },
    {
     "data": {
      "image/png": "[encoded data removed]",
      "text/plain": [
       "<Figure size 432x288 with 1 Axes>"
      ]
     },
     "metadata": {},
     "output_type": "display_data"
    }
   ],
   "source": [
    "tmp = df[['step', 'isFraud']]%24\n",
    "# tmp['step'] = tmp['step']%24\n",
    "tmp.groupby(['step']).sum().plot()\n",
    "tmp.groupby(['step']).sum().min()"
   ]
  },
  {
   "cell_type": "markdown",
   "metadata": {},
   "source": [
    "change step to days"
   ]
  },
  {
   "cell_type": "code",
   "execution_count": 26,
   "metadata": {},
   "outputs": [
    {
     "name": "stderr",
     "output_type": "stream",
     "text": [
      "C:\\Users\\mthee\\Anaconda3\\lib\\site-packages\\ipykernel_launcher.py:2: SettingWithCopyWarning: \n",
      "A value is trying to be set on a copy of a slice from a DataFrame.\n",
      "Try using .loc[row_indexer,col_indexer] = value instead\n",
      "\n",
      "See the caveats in the documentation: https://pandas.pydata.org/pandas-docs/stable/user_guide/indexing.html#returning-a-view-versus-a-copy\n",
      "  \n"
     ]
    },
    {
     "data": {
      "text/plain": [
       "isFraud    220\n",
       "dtype: int64"
      ]
     },
     "execution_count": 26,
     "metadata": {},
     "output_type": "execute_result"
    },
    {
     "data": {
      "image/png": "[encoded data removed]",
      "text/plain": [
       "<Figure size 432x288 with 1 Axes>"
      ]
     },
     "metadata": {},
     "output_type": "display_data"
    }
   ],
   "source": [
    "tmp = df[['step', 'isFraud']]\n",
    "tmp['step'] = tmp['step']//24\n",
    "tmp.groupby(['step']).sum().plot()\n",
    "tmp.groupby(['step']).sum().min()"
   ]
  },
  {
   "cell_type": "markdown",
   "metadata": {},
   "source": [
    "__step doesn't realy help us__"
   ]
  },
  {
   "cell_type": "markdown",
   "metadata": {},
   "source": [
    "---\n",
    "# Predict Fraud"
   ]
  },
  {
   "cell_type": "code",
   "execution_count": 27,
   "metadata": {},
   "outputs": [],
   "source": [
    "def normalize(df):\n",
    "    for x in df:\n",
    "        df[x] = df[x]/df[x].max()"
   ]
  },
  {
   "cell_type": "markdown",
   "metadata": {},
   "source": [
    "## Clear data from unneeded values for the model"
   ]
  },
  {
   "cell_type": "markdown",
   "metadata": {},
   "source": [
    "### remove transactions types with no fraud _(to reduce run time)_\n",
    "We'll take care of that together with the next point"
   ]
  },
  {
   "cell_type": "markdown",
   "metadata": {},
   "source": [
    "### Change transactions dtype to numeric \n",
    "#### note that dummy classifiers makes models slow\n",
    "```\n",
    "tmp = pd.get_dummies(data['type'])\n",
    "data = data.join(tmp)\n",
    "data = data.drop('type', axis=1)\n",
    "data.head()\n",
    "```"
   ]
  },
  {
   "cell_type": "code",
   "execution_count": 28,
   "metadata": {},
   "outputs": [
    {
     "name": "stderr",
     "output_type": "stream",
     "text": [
      "C:\\Users\\mthee\\Anaconda3\\lib\\site-packages\\ipykernel_launcher.py:3: SettingWithCopyWarning: \n",
      "A value is trying to be set on a copy of a slice from a DataFrame.\n",
      "Try using .loc[row_indexer,col_indexer] = value instead\n",
      "\n",
      "See the caveats in the documentation: https://pandas.pydata.org/pandas-docs/stable/user_guide/indexing.html#returning-a-view-versus-a-copy\n",
      "  This is separate from the ipykernel package so we can avoid doing imports until\n",
      "C:\\Users\\mthee\\Anaconda3\\lib\\site-packages\\ipykernel_launcher.py:4: SettingWithCopyWarning: \n",
      "A value is trying to be set on a copy of a slice from a DataFrame.\n",
      "Try using .loc[row_indexer,col_indexer] = value instead\n",
      "\n",
      "See the caveats in the documentation: https://pandas.pydata.org/pandas-docs/stable/user_guide/indexing.html#returning-a-view-versus-a-copy\n",
      "  after removing the cwd from sys.path.\n"
     ]
    },
    {
     "name": "stdout",
     "output_type": "stream",
     "text": [
      "<class 'pandas.core.frame.DataFrame'>\n",
      "Int64Index: 2770409 entries, 2 to 6362619\n",
      "Data columns (total 11 columns):\n",
      " #   Column          Dtype  \n",
      "---  ------          -----  \n",
      " 0   step            int64  \n",
      " 1   type            int64  \n",
      " 2   amount          float64\n",
      " 3   nameOrig        object \n",
      " 4   oldbalanceOrg   float64\n",
      " 5   newbalanceOrig  float64\n",
      " 6   nameDest        object \n",
      " 7   oldbalanceDest  float64\n",
      " 8   newbalanceDest  float64\n",
      " 9   isFraud         int64  \n",
      " 10  isFlaggedFraud  int64  \n",
      "dtypes: float64(5), int64(4), object(2)\n",
      "memory usage: 253.6+ MB\n"
     ]
    },
    {
     "data": {
      "text/html": [
       "<div>\n",
       "<style scoped>\n",
       "    .dataframe tbody tr th:only-of-type {\n",
       "        vertical-align: middle;\n",
       "    }\n",
       "\n",
       "    .dataframe tbody tr th {\n",
       "        vertical-align: top;\n",
       "    }\n",
       "\n",
       "    .dataframe thead th {\n",
       "        text-align: right;\n",
       "    }\n",
       "</style>\n",
       "<table border=\"1\" class=\"dataframe\">\n",
       "  <thead>\n",
       "    <tr style=\"text-align: right;\">\n",
       "      <th></th>\n",
       "      <th>step</th>\n",
       "      <th>type</th>\n",
       "      <th>amount</th>\n",
       "      <th>nameOrig</th>\n",
       "      <th>oldbalanceOrg</th>\n",
       "      <th>newbalanceOrig</th>\n",
       "      <th>nameDest</th>\n",
       "      <th>oldbalanceDest</th>\n",
       "      <th>newbalanceDest</th>\n",
       "      <th>isFraud</th>\n",
       "      <th>isFlaggedFraud</th>\n",
       "    </tr>\n",
       "  </thead>\n",
       "  <tbody>\n",
       "    <tr>\n",
       "      <th>2</th>\n",
       "      <td>1</td>\n",
       "      <td>1</td>\n",
       "      <td>181.00</td>\n",
       "      <td>C1305486145</td>\n",
       "      <td>181.00</td>\n",
       "      <td>0.0</td>\n",
       "      <td>C553264065</td>\n",
       "      <td>0.00</td>\n",
       "      <td>0.00</td>\n",
       "      <td>1</td>\n",
       "      <td>0</td>\n",
       "    </tr>\n",
       "    <tr>\n",
       "      <th>19</th>\n",
       "      <td>1</td>\n",
       "      <td>1</td>\n",
       "      <td>215310.30</td>\n",
       "      <td>C1670993182</td>\n",
       "      <td>705.00</td>\n",
       "      <td>0.0</td>\n",
       "      <td>C1100439041</td>\n",
       "      <td>22425.00</td>\n",
       "      <td>0.00</td>\n",
       "      <td>0</td>\n",
       "      <td>0</td>\n",
       "    </tr>\n",
       "    <tr>\n",
       "      <th>24</th>\n",
       "      <td>1</td>\n",
       "      <td>1</td>\n",
       "      <td>311685.89</td>\n",
       "      <td>C1984094095</td>\n",
       "      <td>10835.00</td>\n",
       "      <td>0.0</td>\n",
       "      <td>C932583850</td>\n",
       "      <td>6267.00</td>\n",
       "      <td>2719172.89</td>\n",
       "      <td>0</td>\n",
       "      <td>0</td>\n",
       "    </tr>\n",
       "    <tr>\n",
       "      <th>58</th>\n",
       "      <td>1</td>\n",
       "      <td>1</td>\n",
       "      <td>62610.80</td>\n",
       "      <td>C1976401987</td>\n",
       "      <td>79114.00</td>\n",
       "      <td>16503.2</td>\n",
       "      <td>C1937962514</td>\n",
       "      <td>517.00</td>\n",
       "      <td>8383.29</td>\n",
       "      <td>0</td>\n",
       "      <td>0</td>\n",
       "    </tr>\n",
       "    <tr>\n",
       "      <th>78</th>\n",
       "      <td>1</td>\n",
       "      <td>1</td>\n",
       "      <td>42712.39</td>\n",
       "      <td>C283039401</td>\n",
       "      <td>10363.39</td>\n",
       "      <td>0.0</td>\n",
       "      <td>C1330106945</td>\n",
       "      <td>57901.66</td>\n",
       "      <td>24044.18</td>\n",
       "      <td>0</td>\n",
       "      <td>0</td>\n",
       "    </tr>\n",
       "  </tbody>\n",
       "</table>\n",
       "</div>"
      ],
      "text/plain": [
       "    step  type     amount     nameOrig  oldbalanceOrg  newbalanceOrig  \\\n",
       "2      1     1     181.00  C1305486145         181.00             0.0   \n",
       "19     1     1  215310.30  C1670993182         705.00             0.0   \n",
       "24     1     1  311685.89  C1984094095       10835.00             0.0   \n",
       "58     1     1   62610.80  C1976401987       79114.00         16503.2   \n",
       "78     1     1   42712.39   C283039401       10363.39             0.0   \n",
       "\n",
       "       nameDest  oldbalanceDest  newbalanceDest  isFraud  isFlaggedFraud  \n",
       "2    C553264065            0.00            0.00        1               0  \n",
       "19  C1100439041        22425.00            0.00        0               0  \n",
       "24   C932583850         6267.00      2719172.89        0               0  \n",
       "58  C1937962514          517.00         8383.29        0               0  \n",
       "78  C1330106945        57901.66        24044.18        0               0  "
      ]
     },
     "execution_count": 28,
     "metadata": {},
     "output_type": "execute_result"
    }
   ],
   "source": [
    "d1 = df[df['type']=='TRANSFER']\n",
    "d2 = df[df['type']=='CASH_OUT']\n",
    "d1['type'] = 1\n",
    "d2['type'] = 0\n",
    "df = pd.concat([d1, d2])\n",
    "df.info()\n",
    "df.head()"
   ]
  },
  {
   "cell_type": "markdown",
   "metadata": {},
   "source": [
    "### Remove the unneeded columns"
   ]
  },
  {
   "cell_type": "code",
   "execution_count": 29,
   "metadata": {},
   "outputs": [
    {
     "name": "stdout",
     "output_type": "stream",
     "text": [
      "<class 'pandas.core.frame.DataFrame'>\n",
      "Int64Index: 2770409 entries, 2 to 6362619\n",
      "Data columns (total 9 columns):\n",
      " #   Column          Dtype  \n",
      "---  ------          -----  \n",
      " 0   step            int64  \n",
      " 1   type            int64  \n",
      " 2   amount          float64\n",
      " 3   oldbalanceOrg   float64\n",
      " 4   newbalanceOrig  float64\n",
      " 5   oldbalanceDest  float64\n",
      " 6   newbalanceDest  float64\n",
      " 7   isFraud         int64  \n",
      " 8   isFlaggedFraud  int64  \n",
      "dtypes: float64(5), int64(4)\n",
      "memory usage: 211.4 MB\n"
     ]
    },
    {
     "data": {
      "text/html": [
       "<div>\n",
       "<style scoped>\n",
       "    .dataframe tbody tr th:only-of-type {\n",
       "        vertical-align: middle;\n",
       "    }\n",
       "\n",
       "    .dataframe tbody tr th {\n",
       "        vertical-align: top;\n",
       "    }\n",
       "\n",
       "    .dataframe thead th {\n",
       "        text-align: right;\n",
       "    }\n",
       "</style>\n",
       "<table border=\"1\" class=\"dataframe\">\n",
       "  <thead>\n",
       "    <tr style=\"text-align: right;\">\n",
       "      <th></th>\n",
       "      <th>step</th>\n",
       "      <th>type</th>\n",
       "      <th>amount</th>\n",
       "      <th>oldbalanceOrg</th>\n",
       "      <th>newbalanceOrig</th>\n",
       "      <th>oldbalanceDest</th>\n",
       "      <th>newbalanceDest</th>\n",
       "      <th>isFraud</th>\n",
       "      <th>isFlaggedFraud</th>\n",
       "    </tr>\n",
       "  </thead>\n",
       "  <tbody>\n",
       "    <tr>\n",
       "      <th>2</th>\n",
       "      <td>1</td>\n",
       "      <td>1</td>\n",
       "      <td>181.00</td>\n",
       "      <td>181.00</td>\n",
       "      <td>0.0</td>\n",
       "      <td>0.00</td>\n",
       "      <td>0.00</td>\n",
       "      <td>1</td>\n",
       "      <td>0</td>\n",
       "    </tr>\n",
       "    <tr>\n",
       "      <th>19</th>\n",
       "      <td>1</td>\n",
       "      <td>1</td>\n",
       "      <td>215310.30</td>\n",
       "      <td>705.00</td>\n",
       "      <td>0.0</td>\n",
       "      <td>22425.00</td>\n",
       "      <td>0.00</td>\n",
       "      <td>0</td>\n",
       "      <td>0</td>\n",
       "    </tr>\n",
       "    <tr>\n",
       "      <th>24</th>\n",
       "      <td>1</td>\n",
       "      <td>1</td>\n",
       "      <td>311685.89</td>\n",
       "      <td>10835.00</td>\n",
       "      <td>0.0</td>\n",
       "      <td>6267.00</td>\n",
       "      <td>2719172.89</td>\n",
       "      <td>0</td>\n",
       "      <td>0</td>\n",
       "    </tr>\n",
       "    <tr>\n",
       "      <th>58</th>\n",
       "      <td>1</td>\n",
       "      <td>1</td>\n",
       "      <td>62610.80</td>\n",
       "      <td>79114.00</td>\n",
       "      <td>16503.2</td>\n",
       "      <td>517.00</td>\n",
       "      <td>8383.29</td>\n",
       "      <td>0</td>\n",
       "      <td>0</td>\n",
       "    </tr>\n",
       "    <tr>\n",
       "      <th>78</th>\n",
       "      <td>1</td>\n",
       "      <td>1</td>\n",
       "      <td>42712.39</td>\n",
       "      <td>10363.39</td>\n",
       "      <td>0.0</td>\n",
       "      <td>57901.66</td>\n",
       "      <td>24044.18</td>\n",
       "      <td>0</td>\n",
       "      <td>0</td>\n",
       "    </tr>\n",
       "  </tbody>\n",
       "</table>\n",
       "</div>"
      ],
      "text/plain": [
       "    step  type     amount  oldbalanceOrg  newbalanceOrig  oldbalanceDest  \\\n",
       "2      1     1     181.00         181.00             0.0            0.00   \n",
       "19     1     1  215310.30         705.00             0.0        22425.00   \n",
       "24     1     1  311685.89       10835.00             0.0         6267.00   \n",
       "58     1     1   62610.80       79114.00         16503.2          517.00   \n",
       "78     1     1   42712.39       10363.39             0.0        57901.66   \n",
       "\n",
       "    newbalanceDest  isFraud  isFlaggedFraud  \n",
       "2             0.00        1               0  \n",
       "19            0.00        0               0  \n",
       "24      2719172.89        0               0  \n",
       "58         8383.29        0               0  \n",
       "78        24044.18        0               0  "
      ]
     },
     "execution_count": 29,
     "metadata": {},
     "output_type": "execute_result"
    }
   ],
   "source": [
    "df = df.select_dtypes(exclude='object')\n",
    "df.info()\n",
    "df.head()"
   ]
  },
  {
   "cell_type": "code",
   "execution_count": 30,
   "metadata": {},
   "outputs": [
    {
     "name": "stdout",
     "output_type": "stream",
     "text": [
      "<class 'pandas.core.frame.DataFrame'>\n",
      "Int64Index: 2770409 entries, 2 to 6362619\n",
      "Data columns (total 8 columns):\n",
      " #   Column          Dtype  \n",
      "---  ------          -----  \n",
      " 0   type            int64  \n",
      " 1   amount          float64\n",
      " 2   oldbalanceOrg   float64\n",
      " 3   newbalanceOrig  float64\n",
      " 4   oldbalanceDest  float64\n",
      " 5   newbalanceDest  float64\n",
      " 6   isFraud         int64  \n",
      " 7   isFlaggedFraud  int64  \n",
      "dtypes: float64(5), int64(3)\n",
      "memory usage: 190.2 MB\n"
     ]
    },
    {
     "data": {
      "text/html": [
       "<div>\n",
       "<style scoped>\n",
       "    .dataframe tbody tr th:only-of-type {\n",
       "        vertical-align: middle;\n",
       "    }\n",
       "\n",
       "    .dataframe tbody tr th {\n",
       "        vertical-align: top;\n",
       "    }\n",
       "\n",
       "    .dataframe thead th {\n",
       "        text-align: right;\n",
       "    }\n",
       "</style>\n",
       "<table border=\"1\" class=\"dataframe\">\n",
       "  <thead>\n",
       "    <tr style=\"text-align: right;\">\n",
       "      <th></th>\n",
       "      <th>type</th>\n",
       "      <th>amount</th>\n",
       "      <th>oldbalanceOrg</th>\n",
       "      <th>newbalanceOrig</th>\n",
       "      <th>oldbalanceDest</th>\n",
       "      <th>newbalanceDest</th>\n",
       "      <th>isFraud</th>\n",
       "      <th>isFlaggedFraud</th>\n",
       "    </tr>\n",
       "  </thead>\n",
       "  <tbody>\n",
       "    <tr>\n",
       "      <th>2</th>\n",
       "      <td>1</td>\n",
       "      <td>181.00</td>\n",
       "      <td>181.00</td>\n",
       "      <td>0.0</td>\n",
       "      <td>0.00</td>\n",
       "      <td>0.00</td>\n",
       "      <td>1</td>\n",
       "      <td>0</td>\n",
       "    </tr>\n",
       "    <tr>\n",
       "      <th>19</th>\n",
       "      <td>1</td>\n",
       "      <td>215310.30</td>\n",
       "      <td>705.00</td>\n",
       "      <td>0.0</td>\n",
       "      <td>22425.00</td>\n",
       "      <td>0.00</td>\n",
       "      <td>0</td>\n",
       "      <td>0</td>\n",
       "    </tr>\n",
       "    <tr>\n",
       "      <th>24</th>\n",
       "      <td>1</td>\n",
       "      <td>311685.89</td>\n",
       "      <td>10835.00</td>\n",
       "      <td>0.0</td>\n",
       "      <td>6267.00</td>\n",
       "      <td>2719172.89</td>\n",
       "      <td>0</td>\n",
       "      <td>0</td>\n",
       "    </tr>\n",
       "    <tr>\n",
       "      <th>58</th>\n",
       "      <td>1</td>\n",
       "      <td>62610.80</td>\n",
       "      <td>79114.00</td>\n",
       "      <td>16503.2</td>\n",
       "      <td>517.00</td>\n",
       "      <td>8383.29</td>\n",
       "      <td>0</td>\n",
       "      <td>0</td>\n",
       "    </tr>\n",
       "    <tr>\n",
       "      <th>78</th>\n",
       "      <td>1</td>\n",
       "      <td>42712.39</td>\n",
       "      <td>10363.39</td>\n",
       "      <td>0.0</td>\n",
       "      <td>57901.66</td>\n",
       "      <td>24044.18</td>\n",
       "      <td>0</td>\n",
       "      <td>0</td>\n",
       "    </tr>\n",
       "  </tbody>\n",
       "</table>\n",
       "</div>"
      ],
      "text/plain": [
       "    type     amount  oldbalanceOrg  newbalanceOrig  oldbalanceDest  \\\n",
       "2      1     181.00         181.00             0.0            0.00   \n",
       "19     1  215310.30         705.00             0.0        22425.00   \n",
       "24     1  311685.89       10835.00             0.0         6267.00   \n",
       "58     1   62610.80       79114.00         16503.2          517.00   \n",
       "78     1   42712.39       10363.39             0.0        57901.66   \n",
       "\n",
       "    newbalanceDest  isFraud  isFlaggedFraud  \n",
       "2             0.00        1               0  \n",
       "19            0.00        0               0  \n",
       "24      2719172.89        0               0  \n",
       "58         8383.29        0               0  \n",
       "78        24044.18        0               0  "
      ]
     },
     "execution_count": 30,
     "metadata": {},
     "output_type": "execute_result"
    }
   ],
   "source": [
    "df = df.drop('step', axis=1)\n",
    "df.info()\n",
    "df.head()"
   ]
  },
  {
   "cell_type": "code",
   "execution_count": 31,
   "metadata": {},
   "outputs": [
    {
     "name": "stdout",
     "output_type": "stream",
     "text": [
      "<class 'pandas.core.frame.DataFrame'>\n",
      "Int64Index: 2770409 entries, 2 to 6362619\n",
      "Data columns (total 8 columns):\n",
      " #   Column          Dtype  \n",
      "---  ------          -----  \n",
      " 0   type            int8   \n",
      " 1   amount          float64\n",
      " 2   oldbalanceOrg   float64\n",
      " 3   newbalanceOrig  float64\n",
      " 4   oldbalanceDest  float64\n",
      " 5   newbalanceDest  float64\n",
      " 6   isFraud         int8   \n",
      " 7   isFlaggedFraud  int8   \n",
      "dtypes: float64(5), int8(3)\n",
      "memory usage: 134.7 MB\n"
     ]
    },
    {
     "data": {
      "text/html": [
       "<div>\n",
       "<style scoped>\n",
       "    .dataframe tbody tr th:only-of-type {\n",
       "        vertical-align: middle;\n",
       "    }\n",
       "\n",
       "    .dataframe tbody tr th {\n",
       "        vertical-align: top;\n",
       "    }\n",
       "\n",
       "    .dataframe thead th {\n",
       "        text-align: right;\n",
       "    }\n",
       "</style>\n",
       "<table border=\"1\" class=\"dataframe\">\n",
       "  <thead>\n",
       "    <tr style=\"text-align: right;\">\n",
       "      <th></th>\n",
       "      <th>type</th>\n",
       "      <th>amount</th>\n",
       "      <th>oldbalanceOrg</th>\n",
       "      <th>newbalanceOrig</th>\n",
       "      <th>oldbalanceDest</th>\n",
       "      <th>newbalanceDest</th>\n",
       "      <th>isFraud</th>\n",
       "      <th>isFlaggedFraud</th>\n",
       "    </tr>\n",
       "  </thead>\n",
       "  <tbody>\n",
       "    <tr>\n",
       "      <th>2</th>\n",
       "      <td>1</td>\n",
       "      <td>0.000002</td>\n",
       "      <td>0.000003</td>\n",
       "      <td>0.000000</td>\n",
       "      <td>0.000000</td>\n",
       "      <td>0.000000</td>\n",
       "      <td>1</td>\n",
       "      <td>0</td>\n",
       "    </tr>\n",
       "    <tr>\n",
       "      <th>19</th>\n",
       "      <td>1</td>\n",
       "      <td>0.002329</td>\n",
       "      <td>0.000012</td>\n",
       "      <td>0.000000</td>\n",
       "      <td>0.000063</td>\n",
       "      <td>0.000000</td>\n",
       "      <td>0</td>\n",
       "      <td>0</td>\n",
       "    </tr>\n",
       "    <tr>\n",
       "      <th>24</th>\n",
       "      <td>1</td>\n",
       "      <td>0.003372</td>\n",
       "      <td>0.000182</td>\n",
       "      <td>0.000000</td>\n",
       "      <td>0.000018</td>\n",
       "      <td>0.007634</td>\n",
       "      <td>0</td>\n",
       "      <td>0</td>\n",
       "    </tr>\n",
       "    <tr>\n",
       "      <th>58</th>\n",
       "      <td>1</td>\n",
       "      <td>0.000677</td>\n",
       "      <td>0.001328</td>\n",
       "      <td>0.000333</td>\n",
       "      <td>0.000001</td>\n",
       "      <td>0.000024</td>\n",
       "      <td>0</td>\n",
       "      <td>0</td>\n",
       "    </tr>\n",
       "    <tr>\n",
       "      <th>78</th>\n",
       "      <td>1</td>\n",
       "      <td>0.000462</td>\n",
       "      <td>0.000174</td>\n",
       "      <td>0.000000</td>\n",
       "      <td>0.000163</td>\n",
       "      <td>0.000068</td>\n",
       "      <td>0</td>\n",
       "      <td>0</td>\n",
       "    </tr>\n",
       "  </tbody>\n",
       "</table>\n",
       "</div>"
      ],
      "text/plain": [
       "    type    amount  oldbalanceOrg  newbalanceOrig  oldbalanceDest  \\\n",
       "2      1  0.000002       0.000003        0.000000        0.000000   \n",
       "19     1  0.002329       0.000012        0.000000        0.000063   \n",
       "24     1  0.003372       0.000182        0.000000        0.000018   \n",
       "58     1  0.000677       0.001328        0.000333        0.000001   \n",
       "78     1  0.000462       0.000174        0.000000        0.000163   \n",
       "\n",
       "    newbalanceDest  isFraud  isFlaggedFraud  \n",
       "2         0.000000        1               0  \n",
       "19        0.000000        0               0  \n",
       "24        0.007634        0               0  \n",
       "58        0.000024        0               0  \n",
       "78        0.000068        0               0  "
      ]
     },
     "execution_count": 31,
     "metadata": {},
     "output_type": "execute_result"
    }
   ],
   "source": [
    "normalize(df)\n",
    "df['type'] = df['type'].astype('int8')\n",
    "df['isFraud'] = df['isFraud'].astype('int8')\n",
    "df['isFlaggedFraud'] = df['isFlaggedFraud'].astype('int8')\n",
    "df.info()\n",
    "df.head()"
   ]
  },
  {
   "cell_type": "code",
   "execution_count": 32,
   "metadata": {},
   "outputs": [],
   "source": [
    "X=df.drop('isFraud', axis=1)\n",
    "y=df['isFraud']\n",
    "X_train, X_test, y_train, y_test = train_test_split(X, y, test_size=0.2, random_state=0)"
   ]
  },
  {
   "cell_type": "markdown",
   "metadata": {},
   "source": [
    "## Train\n",
    "We'll be trying to achieve high sensitivity in our models"
   ]
  },
  {
   "cell_type": "code",
   "execution_count": 33,
   "metadata": {},
   "outputs": [],
   "source": [
    "def evaluate(true, pred):\n",
    "    model_accuracy = roc_auc_score(true, pred)\n",
    "    null_accuracy = roc_auc_score(true, true.replace(1, 0))\n",
    "    \n",
    "    print(\"Null AUC Score: {:.5f}\".format(null_accuracy))\n",
    "    print(\"Model AUC Score: {:.5f}\".format(model_accuracy))\n",
    "\n",
    "    if null_accuracy >= model_accuracy:\n",
    "        print(\"The model isn't effective\")\n",
    "#         return\n",
    "    else:\n",
    "        print(\"The model is better then a 'dumb' model\")\n",
    "    print(\"confusion_matrix:\\n\", confusion_matrix(true, pred))\n",
    "    print(classification_report(true, pred))"
   ]
  },
  {
   "cell_type": "code",
   "execution_count": 34,
   "metadata": {},
   "outputs": [],
   "source": [
    "def optimalModel(model, y_test, X_test, scoring='roc_auc', average='macro', speed='normal'):\n",
    "    if speed == 'normal':\n",
    "        s = 1\n",
    "    elif speed == 'quick':\n",
    "        s = 3\n",
    "    y_pred = model.predict_proba(X_test)[:, 1]\n",
    "    if scoring == 'roc_auc':  # TODO: cut run time\n",
    "        fpr, tpr, thresholds = roc_curve(y_test, y_pred)\n",
    "        scores = []\n",
    "        for x in range(0, len(thresholds), s):\n",
    "            y_pred_class = binarize([y_pred], thresholds[x])[0]\n",
    "            scores.append(roc_auc_score(y_test, y_pred_class, average))\n",
    "        scores = np.array(scores)\n",
    "        index = np.argmax(scores)\n",
    "    if scoring == 'average_precision':\n",
    "        fpr, tpr, thresholds = roc_curve(y_test, y_pred)\n",
    "        scores = []\n",
    "        for x in thresholds:\n",
    "            y_pred_class = binarize([y_pred], x)[0]\n",
    "            scores.append(average_precision_score(y_test, y_pred_class))\n",
    "        scores = np.array(scores)\n",
    "        index = np.argmax(scores)        \n",
    "    if scoring == 'sensitivity':\n",
    "        precision, recall, thresholds = precision_recall_curve(y_test, y_pred)\n",
    "        index = np.argmax(recall)\n",
    "    if scoring == 'specificity':\n",
    "        precision, recall, thresholds = precision_recall_curve(y_test, y_pred)\n",
    "        index = np.argmax(precision)\n",
    "    y_pred_class = binarize([y_pred], thresholds[index])[0]\n",
    "    evaluate(y_test, y_pred_class)\n",
    "    return thresholds[index]"
   ]
  },
  {
   "cell_type": "markdown",
   "metadata": {},
   "source": [
    "### Naive Bayes"
   ]
  },
  {
   "cell_type": "code",
   "execution_count": 35,
   "metadata": {},
   "outputs": [
    {
     "name": "stdout",
     "output_type": "stream",
     "text": [
      "Null AUC Score: 0.50000\n",
      "Model AUC Score: 0.50030\n",
      "The model is better then a 'dumb' model\n",
      "confusion_matrix:\n",
      " [[552404      0]\n",
      " [  1677      1]]\n",
      "              precision    recall  f1-score   support\n",
      "\n",
      "           0       1.00      1.00      1.00    552404\n",
      "           1       1.00      0.00      0.00      1678\n",
      "\n",
      "    accuracy                           1.00    554082\n",
      "   macro avg       1.00      0.50      0.50    554082\n",
      "weighted avg       1.00      1.00      1.00    554082\n",
      "\n"
     ]
    }
   ],
   "source": [
    "mnb = MultinomialNB()\n",
    "mnb.fit(X_train, y_train)\n",
    "predictions = mnb.predict(X_test)\n",
    "evaluate(y_test, predictions)"
   ]
  },
  {
   "cell_type": "code",
   "execution_count": 36,
   "metadata": {},
   "outputs": [
    {
     "name": "stdout",
     "output_type": "stream",
     "text": [
      "Null AUC Score: 0.50000\n",
      "Model AUC Score: 0.67267\n",
      "The model is better then a 'dumb' model\n",
      "confusion_matrix:\n",
      " [[547622   4782]\n",
      " [  1084    594]]\n",
      "              precision    recall  f1-score   support\n",
      "\n",
      "           0       1.00      0.99      0.99    552404\n",
      "           1       0.11      0.35      0.17      1678\n",
      "\n",
      "    accuracy                           0.99    554082\n",
      "   macro avg       0.55      0.67      0.58    554082\n",
      "weighted avg       1.00      0.99      0.99    554082\n",
      "\n"
     ]
    }
   ],
   "source": [
    "gnb = GaussianNB()\n",
    "gnb.fit(X_train, y_train)\n",
    "predictions = gnb.predict(X_test)\n",
    "evaluate(y_test, predictions)"
   ]
  },
  {
   "cell_type": "code",
   "execution_count": 37,
   "metadata": {},
   "outputs": [
    {
     "name": "stdout",
     "output_type": "stream",
     "text": [
      "Null AUC Score: 0.50000\n",
      "Model AUC Score: 0.82550\n",
      "The model is better then a 'dumb' model\n",
      "confusion_matrix:\n",
      " [[471545  80859]\n",
      " [   340   1338]]\n",
      "              precision    recall  f1-score   support\n",
      "\n",
      "           0       1.00      0.85      0.92    552404\n",
      "           1       0.02      0.80      0.03      1678\n",
      "\n",
      "    accuracy                           0.85    554082\n",
      "   macro avg       0.51      0.83      0.48    554082\n",
      "weighted avg       1.00      0.85      0.92    554082\n",
      "\n"
     ]
    },
    {
     "data": {
      "text/plain": [
       "2.7637432999243908e-09"
      ]
     },
     "execution_count": 37,
     "metadata": {},
     "output_type": "execute_result"
    }
   ],
   "source": [
    "optimalModel(gnb, y_test, X_test)"
   ]
  },
  {
   "cell_type": "markdown",
   "metadata": {},
   "source": [
    "### Decision Tree"
   ]
  },
  {
   "cell_type": "code",
   "execution_count": 38,
   "metadata": {},
   "outputs": [
    {
     "name": "stdout",
     "output_type": "stream",
     "text": [
      "Null AUC Score: 0.50000\n",
      "Model AUC Score: 0.94204\n",
      "The model is better then a 'dumb' model\n",
      "confusion_matrix:\n",
      " [[552239    165]\n",
      " [   194   1484]]\n",
      "              precision    recall  f1-score   support\n",
      "\n",
      "           0       1.00      1.00      1.00    552404\n",
      "           1       0.90      0.88      0.89      1678\n",
      "\n",
      "    accuracy                           1.00    554082\n",
      "   macro avg       0.95      0.94      0.95    554082\n",
      "weighted avg       1.00      1.00      1.00    554082\n",
      "\n"
     ]
    }
   ],
   "source": [
    "dtc = DecisionTreeClassifier()\n",
    "dtc.fit(X_train, y_train)\n",
    "predictions = dtc.predict(X_test)\n",
    "evaluate(y_test, predictions)"
   ]
  },
  {
   "cell_type": "code",
   "execution_count": 39,
   "metadata": {},
   "outputs": [
    {
     "name": "stdout",
     "output_type": "stream",
     "text": [
      "Null AUC Score: 0.50000\n",
      "Model AUC Score: 0.94204\n",
      "The model is better then a 'dumb' model\n",
      "confusion_matrix:\n",
      " [[552239    165]\n",
      " [   194   1484]]\n",
      "              precision    recall  f1-score   support\n",
      "\n",
      "           0       1.00      1.00      1.00    552404\n",
      "           1       0.90      0.88      0.89      1678\n",
      "\n",
      "    accuracy                           1.00    554082\n",
      "   macro avg       0.95      0.94      0.95    554082\n",
      "weighted avg       1.00      1.00      1.00    554082\n",
      "\n"
     ]
    },
    {
     "data": {
      "text/plain": [
       "0.00043886887757214427"
      ]
     },
     "execution_count": 39,
     "metadata": {},
     "output_type": "execute_result"
    }
   ],
   "source": [
    "optimalModel(dtc, y_test, X_test)"
   ]
  },
  {
   "cell_type": "code",
   "execution_count": 40,
   "metadata": {},
   "outputs": [
    {
     "name": "stdout",
     "output_type": "stream",
     "text": [
      "Null AUC Score: 0.50000\n",
      "Model AUC Score: 0.94234\n",
      "The model is better then a 'dumb' model\n",
      "confusion_matrix:\n",
      " [[552238    166]\n",
      " [   193   1485]]\n",
      "              precision    recall  f1-score   support\n",
      "\n",
      "           0       1.00      1.00      1.00    552404\n",
      "           1       0.90      0.88      0.89      1678\n",
      "\n",
      "    accuracy                           1.00    554082\n",
      "   macro avg       0.95      0.94      0.95    554082\n",
      "weighted avg       1.00      1.00      1.00    554082\n",
      "\n"
     ]
    }
   ],
   "source": [
    "dtcf = DecisionTreeClassifier(max_features=7)\n",
    "dtcf.fit(X_train, y_train)\n",
    "predictions = dtcf.predict(X_test)\n",
    "evaluate(y_test, predictions)"
   ]
  },
  {
   "cell_type": "code",
   "execution_count": 41,
   "metadata": {},
   "outputs": [
    {
     "name": "stdout",
     "output_type": "stream",
     "text": [
      "Null AUC Score: 0.50000\n",
      "Model AUC Score: 0.94234\n",
      "The model is better then a 'dumb' model\n",
      "confusion_matrix:\n",
      " [[552238    166]\n",
      " [   193   1485]]\n",
      "              precision    recall  f1-score   support\n",
      "\n",
      "           0       1.00      1.00      1.00    552404\n",
      "           1       0.90      0.88      0.89      1678\n",
      "\n",
      "    accuracy                           1.00    554082\n",
      "   macro avg       0.95      0.94      0.95    554082\n",
      "weighted avg       1.00      1.00      1.00    554082\n",
      "\n"
     ]
    },
    {
     "data": {
      "text/plain": [
       "0.00043886887757214427"
      ]
     },
     "execution_count": 41,
     "metadata": {},
     "output_type": "execute_result"
    }
   ],
   "source": [
    "optimalModel(dtcf, y_test, X_test)"
   ]
  },
  {
   "cell_type": "markdown",
   "metadata": {},
   "source": [
    "### Adaboost"
   ]
  },
  {
   "cell_type": "code",
   "execution_count": 42,
   "metadata": {},
   "outputs": [
    {
     "name": "stdout",
     "output_type": "stream",
     "text": [
      "Null AUC Score: 0.50000\n",
      "Model AUC Score: 0.89786\n",
      "The model is better then a 'dumb' model\n",
      "confusion_matrix:\n",
      " [[490261  62143]\n",
      " [   154   1524]]\n",
      "              precision    recall  f1-score   support\n",
      "\n",
      "           0       1.00      0.89      0.94    552404\n",
      "           1       0.02      0.91      0.05      1678\n",
      "\n",
      "    accuracy                           0.89    554082\n",
      "   macro avg       0.51      0.90      0.49    554082\n",
      "weighted avg       1.00      0.89      0.94    554082\n",
      "\n"
     ]
    },
    {
     "data": {
      "text/plain": [
       "0.34860613139905994"
      ]
     },
     "execution_count": 42,
     "metadata": {},
     "output_type": "execute_result"
    }
   ],
   "source": [
    "ab = AdaBoostClassifier(random_state=0, n_estimators=10)\n",
    "ab.fit(X_train,y_train)\n",
    "optimalModel(ab, y_test, X_test)"
   ]
  },
  {
   "cell_type": "code",
   "execution_count": 43,
   "metadata": {},
   "outputs": [
    {
     "name": "stdout",
     "output_type": "stream",
     "text": [
      "Null AUC Score: 0.50000\n",
      "Model AUC Score: 0.89497\n",
      "The model is better then a 'dumb' model\n",
      "confusion_matrix:\n",
      " [[489369  63035]\n",
      " [   161   1517]]\n",
      "              precision    recall  f1-score   support\n",
      "\n",
      "           0       1.00      0.89      0.94    552404\n",
      "           1       0.02      0.90      0.05      1678\n",
      "\n",
      "    accuracy                           0.89    554082\n",
      "   macro avg       0.51      0.89      0.49    554082\n",
      "weighted avg       1.00      0.89      0.94    554082\n",
      "\n"
     ]
    },
    {
     "data": {
      "text/plain": [
       "0.347143060915202"
      ]
     },
     "execution_count": 43,
     "metadata": {},
     "output_type": "execute_result"
    }
   ],
   "source": [
    "ab = AdaBoostClassifier(random_state=0, n_estimators=20, learning_rate=0.5)\n",
    "ab.fit(X_train,y_train)\n",
    "optimalModel(ab, y_test, X_test)"
   ]
  },
  {
   "cell_type": "code",
   "execution_count": 44,
   "metadata": {},
   "outputs": [
    {
     "name": "stdout",
     "output_type": "stream",
     "text": [
      "Null AUC Score: 0.50000\n",
      "Model AUC Score: 0.89772\n",
      "The model is better then a 'dumb' model\n",
      "confusion_matrix:\n",
      " [[492739  59665]\n",
      " [   162   1516]]\n",
      "              precision    recall  f1-score   support\n",
      "\n",
      "           0       1.00      0.89      0.94    552404\n",
      "           1       0.02      0.90      0.05      1678\n",
      "\n",
      "    accuracy                           0.89    554082\n",
      "   macro avg       0.51      0.90      0.50    554082\n",
      "weighted avg       1.00      0.89      0.94    554082\n",
      "\n"
     ]
    },
    {
     "data": {
      "text/plain": [
       "0.40021990645157923"
      ]
     },
     "execution_count": 44,
     "metadata": {},
     "output_type": "execute_result"
    }
   ],
   "source": [
    "ab = AdaBoostClassifier(random_state=0, n_estimators=30, learning_rate=0.5)\n",
    "ab.fit(X_train,y_train)\n",
    "optimalModel(ab, y_test, X_test)"
   ]
  },
  {
   "cell_type": "code",
   "execution_count": 45,
   "metadata": {},
   "outputs": [
    {
     "name": "stdout",
     "output_type": "stream",
     "text": [
      "Null AUC Score: 0.50000\n",
      "Model AUC Score: 0.89772\n",
      "The model is better then a 'dumb' model\n",
      "confusion_matrix:\n",
      " [[492739  59665]\n",
      " [   162   1516]]\n",
      "              precision    recall  f1-score   support\n",
      "\n",
      "           0       1.00      0.89      0.94    552404\n",
      "           1       0.02      0.90      0.05      1678\n",
      "\n",
      "    accuracy                           0.89    554082\n",
      "   macro avg       0.51      0.90      0.50    554082\n",
      "weighted avg       1.00      0.89      0.94    554082\n",
      "\n"
     ]
    },
    {
     "data": {
      "text/plain": [
       "0.40021990645157923"
      ]
     },
     "execution_count": 45,
     "metadata": {},
     "output_type": "execute_result"
    }
   ],
   "source": [
    "abt = AdaBoostClassifier(base_estimator=dtcf, n_estimators=10, random_state=0)\n",
    "abt.fit(X_train,y_train)\n",
    "optimalModel(ab, y_test, X_test)"
   ]
  },
  {
   "cell_type": "markdown",
   "metadata": {},
   "source": [
    "### Logistic Regression"
   ]
  },
  {
   "cell_type": "code",
   "execution_count": 46,
   "metadata": {},
   "outputs": [
    {
     "name": "stdout",
     "output_type": "stream",
     "text": [
      "Null AUC Score: 0.50000\n",
      "Model AUC Score: 0.54708\n",
      "The model is better then a 'dumb' model\n",
      "confusion_matrix:\n",
      " [[552400      4]\n",
      " [  1520    158]]\n",
      "              precision    recall  f1-score   support\n",
      "\n",
      "           0       1.00      1.00      1.00    552404\n",
      "           1       0.98      0.09      0.17      1678\n",
      "\n",
      "    accuracy                           1.00    554082\n",
      "   macro avg       0.99      0.55      0.59    554082\n",
      "weighted avg       1.00      1.00      1.00    554082\n",
      "\n"
     ]
    }
   ],
   "source": [
    "lr2 = LogisticRegression(random_state=0, solver='lbfgs', penalty='l2')\n",
    "lr2.fit(X_train,y_train)\n",
    "predictions = lr2.predict(X_test)\n",
    "evaluate(y_test, predictions)"
   ]
  },
  {
   "cell_type": "code",
   "execution_count": 47,
   "metadata": {},
   "outputs": [
    {
     "name": "stdout",
     "output_type": "stream",
     "text": [
      "Null AUC Score: 0.50000\n",
      "Model AUC Score: 0.80976\n",
      "The model is better then a 'dumb' model\n",
      "confusion_matrix:\n",
      " [[414651 137753]\n",
      " [   220   1458]]\n",
      "              precision    recall  f1-score   support\n",
      "\n",
      "           0       1.00      0.75      0.86    552404\n",
      "           1       0.01      0.87      0.02      1678\n",
      "\n",
      "    accuracy                           0.75    554082\n",
      "   macro avg       0.50      0.81      0.44    554082\n",
      "weighted avg       1.00      0.75      0.85    554082\n",
      "\n"
     ]
    },
    {
     "data": {
      "text/plain": [
       "0.0019748543738890172"
      ]
     },
     "execution_count": 47,
     "metadata": {},
     "output_type": "execute_result"
    }
   ],
   "source": [
    "optimalModel(lr2, y_test, X_test)"
   ]
  },
  {
   "cell_type": "code",
   "execution_count": 48,
   "metadata": {},
   "outputs": [
    {
     "name": "stdout",
     "output_type": "stream",
     "text": [
      "Null AUC Score: 0.50000\n",
      "Model AUC Score: 0.70462\n",
      "The model is better then a 'dumb' model\n",
      "confusion_matrix:\n",
      " [[552306     98]\n",
      " [   991    687]]\n",
      "              precision    recall  f1-score   support\n",
      "\n",
      "           0       1.00      1.00      1.00    552404\n",
      "           1       0.88      0.41      0.56      1678\n",
      "\n",
      "    accuracy                           1.00    554082\n",
      "   macro avg       0.94      0.70      0.78    554082\n",
      "weighted avg       1.00      1.00      1.00    554082\n",
      "\n"
     ]
    }
   ],
   "source": [
    "lr1 = LogisticRegression(random_state=0, solver='liblinear', penalty='l1')\n",
    "lr1.fit(X_train,y_train)\n",
    "predictions = lr1.predict(X_test)\n",
    "evaluate(y_test, predictions)"
   ]
  },
  {
   "cell_type": "code",
   "execution_count": 49,
   "metadata": {},
   "outputs": [
    {
     "name": "stdout",
     "output_type": "stream",
     "text": [
      "Null AUC Score: 0.50000\n",
      "Model AUC Score: 0.91958\n",
      "The model is better then a 'dumb' model\n",
      "confusion_matrix:\n",
      " [[503387  49017]\n",
      " [   121   1557]]\n",
      "              precision    recall  f1-score   support\n",
      "\n",
      "           0       1.00      0.91      0.95    552404\n",
      "           1       0.03      0.93      0.06      1678\n",
      "\n",
      "    accuracy                           0.91    554082\n",
      "   macro avg       0.52      0.92      0.51    554082\n",
      "weighted avg       1.00      0.91      0.95    554082\n",
      "\n"
     ]
    },
    {
     "data": {
      "text/plain": [
       "0.003096957648272876"
      ]
     },
     "execution_count": 49,
     "metadata": {},
     "output_type": "execute_result"
    }
   ],
   "source": [
    "optimalModel(lr1, y_test, X_test)"
   ]
  },
  {
   "cell_type": "markdown",
   "metadata": {},
   "source": [
    "### Random forest"
   ]
  },
  {
   "cell_type": "code",
   "execution_count": 50,
   "metadata": {},
   "outputs": [
    {
     "name": "stdout",
     "output_type": "stream",
     "text": [
      "Null AUC Score: 0.50000\n",
      "Model AUC Score: 0.88169\n",
      "The model is better then a 'dumb' model\n",
      "confusion_matrix:\n",
      " [[552386     18]\n",
      " [   397   1281]]\n",
      "              precision    recall  f1-score   support\n",
      "\n",
      "           0       1.00      1.00      1.00    552404\n",
      "           1       0.99      0.76      0.86      1678\n",
      "\n",
      "    accuracy                           1.00    554082\n",
      "   macro avg       0.99      0.88      0.93    554082\n",
      "weighted avg       1.00      1.00      1.00    554082\n",
      "\n"
     ]
    }
   ],
   "source": [
    "rf = RandomForestClassifier(random_state=0, max_depth=None, n_estimators=10)\n",
    "rf.fit(X_train, y_train)\n",
    "predictions = rf.predict(X_test)\n",
    "evaluate(y_test, predictions)"
   ]
  },
  {
   "cell_type": "code",
   "execution_count": 51,
   "metadata": {},
   "outputs": [
    {
     "name": "stdout",
     "output_type": "stream",
     "text": [
      "Null AUC Score: 0.50000\n",
      "Model AUC Score: 0.88168\n",
      "The model is better then a 'dumb' model\n",
      "confusion_matrix:\n",
      " [[552381     23]\n",
      " [   397   1281]]\n",
      "              precision    recall  f1-score   support\n",
      "\n",
      "           0       1.00      1.00      1.00    552404\n",
      "           1       0.98      0.76      0.86      1678\n",
      "\n",
      "    accuracy                           1.00    554082\n",
      "   macro avg       0.99      0.88      0.93    554082\n",
      "weighted avg       1.00      1.00      1.00    554082\n",
      "\n"
     ]
    }
   ],
   "source": [
    "rff = RandomForestClassifier(random_state=0, max_depth=None, n_estimators=10, bootstrap=False)\n",
    "rff.fit(X_train, y_train)\n",
    "predictions = rff.predict(X_test)\n",
    "evaluate(y_test, predictions)"
   ]
  },
  {
   "cell_type": "code",
   "execution_count": 52,
   "metadata": {},
   "outputs": [
    {
     "name": "stdout",
     "output_type": "stream",
     "text": [
      "{'n_estimators': 10, 'min_samples_leaf': 1, 'max_features': 'sqrt', 'bootstrap': False}\n"
     ]
    }
   ],
   "source": [
    "parm_grid = dict(n_estimators=[10, 20], min_samples_leaf=[.5, 1], max_features=[None, 'sqrt'], bootstrap=[False, True])\n",
    "grid = RandomizedSearchCV(rf, parm_grid, cv=3, scoring='roc_auc', n_iter=2, random_state=0)\n",
    "grid.fit(X_train, y_train)\n",
    "print(grid.best_params_)"
   ]
  },
  {
   "cell_type": "markdown",
   "metadata": {},
   "source": [
    "### SVC"
   ]
  },
  {
   "cell_type": "code",
   "execution_count": 53,
   "metadata": {},
   "outputs": [
    {
     "name": "stderr",
     "output_type": "stream",
     "text": [
      "C:\\Users\\mthee\\Anaconda3\\lib\\site-packages\\sklearn\\svm\\_base.py:231: ConvergenceWarning: Solver terminated early (max_iter=500).  Consider pre-processing your data with StandardScaler or MinMaxScaler.\n",
      "  % self.max_iter, ConvergenceWarning)\n"
     ]
    },
    {
     "name": "stdout",
     "output_type": "stream",
     "text": [
      "Null AUC Score: 0.50000\n",
      "Model AUC Score: 0.66327\n",
      "The model is better then a 'dumb' model\n",
      "confusion_matrix:\n",
      " [[447693 104711]\n",
      " [   812    866]]\n",
      "              precision    recall  f1-score   support\n",
      "\n",
      "           0       1.00      0.81      0.89    552404\n",
      "           1       0.01      0.52      0.02      1678\n",
      "\n",
      "    accuracy                           0.81    554082\n",
      "   macro avg       0.50      0.66      0.46    554082\n",
      "weighted avg       1.00      0.81      0.89    554082\n",
      "\n"
     ]
    }
   ],
   "source": [
    "svc = SVC(random_state=0, max_iter=500)\n",
    "svc.fit(X_train, y_train)\n",
    "predictions = svc.predict(X_test)\n",
    "evaluate(y_test, predictions)"
   ]
  },
  {
   "cell_type": "code",
   "execution_count": 54,
   "metadata": {},
   "outputs": [
    {
     "name": "stdout",
     "output_type": "stream",
     "text": [
      "Null AUC Score: 0.50000\n",
      "Model AUC Score: 0.60786\n",
      "The model is better then a 'dumb' model\n",
      "confusion_matrix:\n",
      " [[552399      5]\n",
      " [  1316    362]]\n",
      "              precision    recall  f1-score   support\n",
      "\n",
      "           0       1.00      1.00      1.00    552404\n",
      "           1       0.99      0.22      0.35      1678\n",
      "\n",
      "    accuracy                           1.00    554082\n",
      "   macro avg       0.99      0.61      0.68    554082\n",
      "weighted avg       1.00      1.00      1.00    554082\n",
      "\n"
     ]
    }
   ],
   "source": [
    "lsvc = LinearSVC(random_state=0, tol=1e-4)\n",
    "lsvc.fit(X_train, y_train)\n",
    "predictions = lsvc.predict(X_test)\n",
    "evaluate(y_test, predictions)"
   ]
  },
  {
   "cell_type": "markdown",
   "metadata": {},
   "source": [
    "## Plot AUC score of the models"
   ]
  },
  {
   "cell_type": "code",
   "execution_count": 56,
   "metadata": {},
   "outputs": [
    {
     "data": {
      "image/png": "[encoded data removed]",
      "text/plain": [
       "<Figure size 1008x1152 with 6 Axes>"
      ]
     },
     "metadata": {},
     "output_type": "display_data"
    }
   ],
   "source": [
    "fig, ((ax1, ax2), (ax3, ax4), (ax5, ax6)) = plt.subplots(3, 2, figsize=(14, 16), constrained_layout=True)\n",
    "\n",
    "plot_roc_curve(mnb, X_test, y_test, ax=ax1)\n",
    "plot_roc_curve(gnb, X_test, y_test, ax=ax1)\n",
    "\n",
    "plot_roc_curve(dtc, X_test, y_test, ax=ax2, name='dtc default')\n",
    "plot_roc_curve(dtcf, X_test, y_test, ax=ax2, name='dtc max-features')\n",
    "\n",
    "plot_roc_curve(ab, X_test, y_test, ax=ax3, name='Adb standard base model')\n",
    "plot_roc_curve(abt, X_test, y_test, ax=ax3, name='Adb moded base model')\n",
    "\n",
    "plot_roc_curve(lr1, X_test, y_test, ax=ax4, name='l1 error')\n",
    "plot_roc_curve(lr2, X_test, y_test, ax=ax4, name='l2 error')\n",
    "\n",
    "plot_roc_curve(rf, X_test, y_test, ax=ax5)\n",
    "plot_roc_curve(rff, X_test, y_test, ax=ax5, name='- no bootstrap')\n",
    "plot_roc_curve(grid, X_test, y_test, ax=ax5, name='- randomized search')\n",
    "\n",
    "plot_roc_curve(svc, X_test, y_test, ax=ax6)\n",
    "plot_roc_curve(lsvc, X_test, y_test, ax=ax6)\n",
    "\n",
    "fig.suptitle ('AUC for the models we used', fontsize=supSize)\n",
    "# ax.set_title('AUC for the models we used', fontsize=titleSize)\n",
    "# ax.set_xlabel('Top Most Common Apps', fontsize=labelSize)\n",
    "# ax.set_ylabel('App Size In Mb', fontsize=labelSize)\n",
    "# ax.set_xticklabels(ax.get_xticklabels(), fontsize=tickSize)\n",
    "# ax.set_yticklabels(ax.get_yticklabels(), fontsize=tickSize)\n",
    "\n",
    "plt.show()"
   ]
  },
  {
   "cell_type": "markdown",
   "metadata": {},
   "source": [
    "__lets look at the random forest in a bigger view__"
   ]
  },
  {
   "cell_type": "code",
   "execution_count": 59,
   "metadata": {},
   "outputs": [
    {
     "data": {
      "image/png": "[encoded data removed]",
      "text/plain": [
       "<Figure size 504x504 with 1 Axes>"
      ]
     },
     "metadata": {},
     "output_type": "display_data"
    }
   ],
   "source": [
    "fig, ax= plt.subplots(figsize=(7, 7), constrained_layout=True)\n",
    "\n",
    "fig.suptitle ('AUC of Random Forest', fontsize=supSize)\n",
    "\n",
    "plot_roc_curve(rf, X_test, y_test, ax=ax)\n",
    "plot_roc_curve(rff, X_test, y_test, ax=ax, name='- no bootstrap')\n",
    "plot_roc_curve(grid, X_test, y_test, ax=ax, name='- randomized search')\n",
    "\n",
    "plt.show()"
   ]
  },
  {
   "cell_type": "markdown",
   "metadata": {},
   "source": [
    "__the best model is the standart Random forest__"
   ]
  },
  {
   "cell_type": "markdown",
   "metadata": {},
   "source": [
    "### Evaluate the model"
   ]
  },
  {
   "cell_type": "code",
   "execution_count": 60,
   "metadata": {},
   "outputs": [
    {
     "name": "stdout",
     "output_type": "stream",
     "text": [
      "Null AUC Score: 0.50000\n",
      "Model AUC Score: 0.94912\n",
      "The model is better then a 'dumb' model\n",
      "confusion_matrix:\n",
      " [[550834   1570]\n",
      " [   166   1512]]\n",
      "              precision    recall  f1-score   support\n",
      "\n",
      "           0       1.00      1.00      1.00    552404\n",
      "           1       0.49      0.90      0.64      1678\n",
      "\n",
      "    accuracy                           1.00    554082\n",
      "   macro avg       0.75      0.95      0.82    554082\n",
      "weighted avg       1.00      1.00      1.00    554082\n",
      "\n"
     ]
    },
    {
     "data": {
      "text/plain": [
       "0.026295980072963566"
      ]
     },
     "execution_count": 60,
     "metadata": {},
     "output_type": "execute_result"
    }
   ],
   "source": [
    "optimalModel(rf, y_test, X_test, 'roc_auc')"
   ]
  },
  {
   "cell_type": "code",
   "execution_count": 61,
   "metadata": {},
   "outputs": [
    {
     "name": "stdout",
     "output_type": "stream",
     "text": [
      "Null AUC Score: 0.50000\n",
      "Model AUC Score: 0.88674\n",
      "The model is better then a 'dumb' model\n",
      "confusion_matrix:\n",
      " [[552376     28]\n",
      " [   380   1298]]\n",
      "              precision    recall  f1-score   support\n",
      "\n",
      "           0       1.00      1.00      1.00    552404\n",
      "           1       0.98      0.77      0.86      1678\n",
      "\n",
      "    accuracy                           1.00    554082\n",
      "   macro avg       0.99      0.89      0.93    554082\n",
      "weighted avg       1.00      1.00      1.00    554082\n",
      "\n"
     ]
    },
    {
     "data": {
      "text/plain": [
       "0.40060281116299173"
      ]
     },
     "execution_count": 61,
     "metadata": {},
     "output_type": "execute_result"
    }
   ],
   "source": [
    "optimalModel(rf, y_test, X_test, 'average_precision')"
   ]
  },
  {
   "cell_type": "code",
   "execution_count": 62,
   "metadata": {},
   "outputs": [
    {
     "name": "stdout",
     "output_type": "stream",
     "text": [
      "Null AUC Score: 0.50000\n",
      "Model AUC Score: 0.68665\n",
      "The model is better then a 'dumb' model\n",
      "confusion_matrix:\n",
      " [[213127 339277]\n",
      " [    21   1657]]\n",
      "              precision    recall  f1-score   support\n",
      "\n",
      "           0       1.00      0.39      0.56    552404\n",
      "           1       0.00      0.99      0.01      1678\n",
      "\n",
      "    accuracy                           0.39    554082\n",
      "   macro avg       0.50      0.69      0.28    554082\n",
      "weighted avg       1.00      0.39      0.56    554082\n",
      "\n"
     ]
    },
    {
     "data": {
      "text/plain": [
       "0.0"
      ]
     },
     "execution_count": 62,
     "metadata": {},
     "output_type": "execute_result"
    }
   ],
   "source": [
    "optimalModel(rf, y_test, X_test, 'sensitivity')"
   ]
  },
  {
   "cell_type": "code",
   "execution_count": 63,
   "metadata": {},
   "outputs": [
    {
     "name": "stdout",
     "output_type": "stream",
     "text": [
      "Null AUC Score: 0.50000\n",
      "Model AUC Score: 0.50000\n",
      "The model isn't effective\n",
      "confusion_matrix:\n",
      " [[552404      0]\n",
      " [  1678      0]]\n"
     ]
    },
    {
     "name": "stderr",
     "output_type": "stream",
     "text": [
      "C:\\Users\\mthee\\Anaconda3\\lib\\site-packages\\sklearn\\metrics\\_classification.py:1272: UndefinedMetricWarning: Precision and F-score are ill-defined and being set to 0.0 in labels with no predicted samples. Use `zero_division` parameter to control this behavior.\n",
      "  _warn_prf(average, modifier, msg_start, len(result))\n"
     ]
    },
    {
     "name": "stdout",
     "output_type": "stream",
     "text": [
      "              precision    recall  f1-score   support\n",
      "\n",
      "           0       1.00      1.00      1.00    552404\n",
      "           1       0.00      0.00      0.00      1678\n",
      "\n",
      "    accuracy                           1.00    554082\n",
      "   macro avg       0.50      0.50      0.50    554082\n",
      "weighted avg       0.99      1.00      1.00    554082\n",
      "\n"
     ]
    },
    {
     "data": {
      "text/plain": [
       "1.0"
      ]
     },
     "execution_count": 63,
     "metadata": {},
     "output_type": "execute_result"
    }
   ],
   "source": [
    "optimalModel(rf, y_test, X_test, 'specificity')"
   ]
  },
  {
   "cell_type": "markdown",
   "metadata": {},
   "source": [
    "### Improve existing fraud detection"
   ]
  },
  {
   "cell_type": "code",
   "execution_count": 64,
   "metadata": {},
   "outputs": [
    {
     "data": {
      "text/plain": [
       "0    16\n",
       "Name: isFlaggedFraud, dtype: int64"
      ]
     },
     "execution_count": 64,
     "metadata": {},
     "output_type": "execute_result"
    }
   ],
   "source": [
    "df[df['amount']==df['oldbalanceOrg']]['isFlaggedFraud'].value_counts()"
   ]
  },
  {
   "cell_type": "code",
   "execution_count": 65,
   "metadata": {},
   "outputs": [],
   "source": [
    "# df['myFlaggedFraud'] = df['isFlaggedFraud']\n",
    "# size = len(df[df['amount']==df['oldbalanceOrg']]['isFlaggedFraud'])\n",
    "d1 = df[df['amount']==df['oldbalanceOrg']]['isFlaggedFraud']\n",
    "d2 = df[df['amount']!=df['oldbalanceOrg']]['isFlaggedFraud']\n",
    "d1 = d1.replace(0, 1)\n",
    "df['isFlaggedFraud'] = pd.concat([d1, d2])"
   ]
  },
  {
   "cell_type": "code",
   "execution_count": 66,
   "metadata": {},
   "outputs": [
    {
     "data": {
      "text/plain": [
       "1    16\n",
       "Name: isFlaggedFraud, dtype: int64"
      ]
     },
     "execution_count": 66,
     "metadata": {},
     "output_type": "execute_result"
    }
   ],
   "source": [
    "df[df['amount']==df['oldbalanceOrg']]['isFlaggedFraud'].value_counts()"
   ]
  },
  {
   "cell_type": "markdown",
   "metadata": {},
   "source": [
    "### Run our best model again with improved fraud detection"
   ]
  },
  {
   "cell_type": "code",
   "execution_count": 67,
   "metadata": {},
   "outputs": [],
   "source": [
    "X=df.drop('isFraud', axis=1)\n",
    "y=df['isFraud']\n",
    "X_train, X_test, y_train, y_test = train_test_split(X, y, test_size=0.2, random_state=0)"
   ]
  },
  {
   "cell_type": "code",
   "execution_count": 68,
   "metadata": {},
   "outputs": [
    {
     "name": "stdout",
     "output_type": "stream",
     "text": [
      "Null AUC Score: 0.50000\n",
      "Model AUC Score: 0.88139\n",
      "The model is better then a 'dumb' model\n",
      "confusion_matrix:\n",
      " [[552388     16]\n",
      " [   398   1280]]\n",
      "              precision    recall  f1-score   support\n",
      "\n",
      "           0       1.00      1.00      1.00    552404\n",
      "           1       0.99      0.76      0.86      1678\n",
      "\n",
      "    accuracy                           1.00    554082\n",
      "   macro avg       0.99      0.88      0.93    554082\n",
      "weighted avg       1.00      1.00      1.00    554082\n",
      "\n"
     ]
    }
   ],
   "source": [
    "rf.fit(X_train, y_train)\n",
    "predictions = rf.predict(X_test)\n",
    "evaluate(y_test, predictions)"
   ]
  },
  {
   "cell_type": "code",
   "execution_count": 69,
   "metadata": {},
   "outputs": [
    {
     "name": "stdout",
     "output_type": "stream",
     "text": [
      "Null AUC Score: 0.50000\n",
      "Model AUC Score: 0.94935\n",
      "The model is better then a 'dumb' model\n",
      "confusion_matrix:\n",
      " [[551096   1308]\n",
      " [   166   1512]]\n",
      "              precision    recall  f1-score   support\n",
      "\n",
      "           0       1.00      1.00      1.00    552404\n",
      "           1       0.54      0.90      0.67      1678\n",
      "\n",
      "    accuracy                           1.00    554082\n",
      "   macro avg       0.77      0.95      0.84    554082\n",
      "weighted avg       1.00      1.00      1.00    554082\n",
      "\n"
     ]
    },
    {
     "data": {
      "text/plain": [
       "0.02946730172263339"
      ]
     },
     "execution_count": 69,
     "metadata": {},
     "output_type": "execute_result"
    }
   ],
   "source": [
    "optimalModel(rf, y_test, X_test, 'roc_auc')"
   ]
  },
  {
   "cell_type": "code",
   "execution_count": 70,
   "metadata": {},
   "outputs": [
    {
     "name": "stdout",
     "output_type": "stream",
     "text": [
      "Null AUC Score: 0.50000\n",
      "Model AUC Score: 0.89151\n",
      "The model is better then a 'dumb' model\n",
      "confusion_matrix:\n",
      " [[552372     32]\n",
      " [   364   1314]]\n",
      "              precision    recall  f1-score   support\n",
      "\n",
      "           0       1.00      1.00      1.00    552404\n",
      "           1       0.98      0.78      0.87      1678\n",
      "\n",
      "    accuracy                           1.00    554082\n",
      "   macro avg       0.99      0.89      0.93    554082\n",
      "weighted avg       1.00      1.00      1.00    554082\n",
      "\n"
     ]
    },
    {
     "data": {
      "text/plain": [
       "0.4"
      ]
     },
     "execution_count": 70,
     "metadata": {},
     "output_type": "execute_result"
    }
   ],
   "source": [
    "optimalModel(rf, y_test, X_test, 'average_precision')"
   ]
  },
  {
   "cell_type": "code",
   "execution_count": null,
   "metadata": {},
   "outputs": [],
   "source": []
  }
 ],
 "metadata": {
  "kernelspec": {
   "display_name": "Python 3",
   "language": "python",
   "name": "python3"
  },
  "language_info": {
   "codemirror_mode": {
    "name": "ipython",
    "version": 3
   },
   "file_extension": ".py",
   "mimetype": "text/x-python",
   "name": "python",
   "nbconvert_exporter": "python",
   "pygments_lexer": "ipython3",
   "version": "3.7.6"
  }
 },
 "nbformat": 4,
 "nbformat_minor": 2
}
